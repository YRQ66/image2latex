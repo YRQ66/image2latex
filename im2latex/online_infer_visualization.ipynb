{
 "cells": [
  {
   "cell_type": "code",
   "execution_count": 1,
   "metadata": {},
   "outputs": [
    {
     "name": "stdout",
     "output_type": "stream",
     "text": [
      "load checkpoint from local path: ../expr_result/im2latex_res31/pretrained.pth\n"
     ]
    }
   ],
   "source": [
    "from im2latex.im2latex_infer import Recognition_Inference\n",
    "from mmcv.image import imread\n",
    "from IPython.display import Image as displayImage\n",
    "from IPython.display import Latex\n",
    "import torch\n",
    "\n",
    "config_file = '../configs/textrecog/master/master_Resnet31_withGCB_im2latex.py'\n",
    "checkpoint_file = '../expr_result/im2latex_res31/pretrained.pth'\n",
    "\n",
    "img_path = '../data/im2latex_data/test_img/34173474c4.png'\n",
    "\n",
    "im2latex_model = Recognition_Inference(config_file, checkpoint_file, samples_per_gpu=64)\n",
    "result = im2latex_model.predict_batch([imread(img_path)])"
   ]
  },
  {
   "cell_type": "code",
   "execution_count": 2,
   "metadata": {},
   "outputs": [
    {
     "name": "stdout",
     "output_type": "stream",
     "text": [
      "lenth:  188\n"
     ]
    },
    {
     "data": {
      "image/png": "[encoded data removed]",
      "text/plain": [
       "<IPython.core.display.Image object>"
      ]
     },
     "execution_count": 2,
     "metadata": {},
     "output_type": "execute_result"
    }
   ],
   "source": [
    "latex_pred = ''\n",
    "for token in result[0]['text']:\n",
    "    latex_pred += token + ' '\n",
    "latex_pred = '$$'+latex_pred+'$$'\n",
    "print('lenth: ',len(latex_pred.split(' ')))\n",
    "displayImage(img_path)"
   ]
  },
  {
   "cell_type": "code",
   "execution_count": 3,
   "metadata": {},
   "outputs": [
    {
     "data": {
      "text/latex": [
       "$$\\sum _ { l , n } \\frac { \\mu _ { p - 1 } \\lambda ^ { k + n + l } i ^ { k } p ! } { k ! n ! l ( p - l ) ! } \\partial _ { x ^ { 1 } } \\dots \\partial _ { x ^ { n } } C _ { i _ { 1 } ^ { \\prime } \\dots i _ { p } ^ { \\prime } \\dots i | a _ { p } } S t r ( \\partial _ { a _ { 1 } } \\phi ^ { j _ { 1 } } \\dots \\partial _ { a _ { 1 } } \\phi ^ { j _ { 1 } } \\dots \\partial _ { a _ { 1 } } \\phi ^ { j _ { i _ { 2 } } } \\dots \\phi ^ { i _ { j } } \\phi ^ { i _ { j } } n - 1 } \\\\ \\end{array} \\, . $$"
      ],
      "text/plain": [
       "<IPython.core.display.Latex object>"
      ]
     },
     "execution_count": 3,
     "metadata": {},
     "output_type": "execute_result"
    }
   ],
   "source": [
    "Latex(latex_pred.replace('\\f','\\\\f'))"
   ]
  },
  {
   "cell_type": "markdown",
   "metadata": {},
   "source": [
    "$$\\sum _ { l , n } \\frac { \\mu _ { p - 1 } \\lambda ^ { k + n + l } i ^ { k } p ! } { k ! n ! l ( p - l ) ! } \\partial _ { x ^ { 1 } } \\dots \\partial _ { x ^ { n } } C _ { i _ { 1 } ^ { \\prime } \\dots i _ { p } ^ { \\prime } \\dots i | a _ { p } } S t r ( \\partial _ { a _ { 1 } } \\phi ^ { j _ { 1 } } \\dots \\partial _ { a _ { 1 } } \\phi ^ { j _ { 1 } } \\dots \\partial _ { a _ { 1 } } \\phi ^ { j _ { i _ { 2 } } } \\dots \\phi ^ { i _ { j } } \\phi ^ { i _ { j } } n - 1 } \\\\ \\end{array} \\, .$$"
   ]
  }
 ],
 "metadata": {
  "interpreter": {
   "hash": "9a3461ecffb85f5f37c92c335863795151a5e9d66d82e70217c1b6efa6cb133d"
  },
  "kernelspec": {
   "display_name": "Python 3.7.11 64-bit ('im2latex': conda)",
   "language": "python",
   "name": "python3"
  },
  "language_info": {
   "codemirror_mode": {
    "name": "ipython",
    "version": 3
   },
   "file_extension": ".py",
   "mimetype": "text/x-python",
   "name": "python",
   "nbconvert_exporter": "python",
   "pygments_lexer": "ipython3",
   "version": "3.7.11"
  },
  "orig_nbformat": 4
 },
 "nbformat": 4,
 "nbformat_minor": 2
}
