{
 "cells": [
  {
   "cell_type": "code",
   "execution_count": 1,
   "metadata": {},
   "outputs": [
    {
     "name": "stdout",
     "output_type": "stream",
     "text": [
      "load checkpoint from local path: ../expr_result/im2latex_res31/pretrained.pth\n"
     ]
    }
   ],
   "source": [
    "from im2latex.im2latex_infer import Recognition_Inference\n",
    "from mmcv.image import imread\n",
    "from IPython.display import Image as displayImage\n",
    "import torch\n",
    "\n",
    "config_file = '../configs/textrecog/master/master_Resnet31_withGCB_im2latex.py'\n",
    "checkpoint_file = '../expr_result/im2latex_res31/pretrained.pth'\n",
    "\n",
    "img_path = '/home/zhangzr/im2latex_data/test_img/1a9b6d7bbd.png'\n",
    "\n",
    "im2latex_model = Recognition_Inference(config_file, checkpoint_file, samples_per_gpu=64)\n",
    "result = im2latex_model.predict_batch([imread(img_path)])"
   ]
  },
  {
   "cell_type": "code",
   "execution_count": 2,
   "metadata": {},
   "outputs": [
    {
     "name": "stdout",
     "output_type": "stream",
     "text": [
      "$$\\partial ^ { \\mu } \\widetilde { A } _ { \\mu } ( x ) = - 4 \\pi \\int \\delta \\xi d s \\epsilon _ { \\mu \\nu \\rho \\sigma } \\, \\delta ^ { \\mu } ( s ) [ \\Omega _ { \\xi } ( s , 0 ) L ^ { \\rho \\sigma } [ \\xi | s ] \\Omega _ { \\xi } ^ { - 1 } ( s , 0 ) ] \\dot { \\xi } ^ { \\nu } ( s ) \\delta ^ { 4 } ( x - \\xi ( s ) ) . $$\n",
      "lenth:  106\n"
     ]
    },
    {
     "data": {
      "image/png": "[encoded data removed]",
      "text/plain": [
       "<IPython.core.display.Image object>"
      ]
     },
     "execution_count": 2,
     "metadata": {},
     "output_type": "execute_result"
    }
   ],
   "source": [
    "latex_pred = ''\n",
    "for token in result[0]['text']:\n",
    "    latex_pred += token + ' '\n",
    "print('$$'+latex_pred+'$$')\n",
    "print('lenth: ',len(latex_pred.split(' ')))\n",
    "displayImage(img_path)"
   ]
  },
  {
   "cell_type": "markdown",
   "metadata": {},
   "source": [
    "$$\\partial ^ { \\mu } \\widetilde { A } _ { \\mu } ( x ) = - 4 \\pi \\int \\delta \\xi d s \\epsilon _ { \\mu \\nu \\rho \\sigma } \\, \\delta ^ { \\mu } ( s ) [ \\Omega _ { \\xi } ( s , 0 ) L ^ { \\rho \\sigma } [ \\xi | s ] \\Omega _ { \\xi } ^ { - 1 } ( s , 0 ) ] \\dot { \\xi } ^ { \\nu } ( s ) \\delta ^ { 4 } ( x - \\xi ( s ) ) . $$"
   ]
  }
 ],
 "metadata": {
  "interpreter": {
   "hash": "9a3461ecffb85f5f37c92c335863795151a5e9d66d82e70217c1b6efa6cb133d"
  },
  "kernelspec": {
   "display_name": "Python 3.7.11 64-bit ('im2latex': conda)",
   "language": "python",
   "name": "python3"
  },
  "language_info": {
   "codemirror_mode": {
    "name": "ipython",
    "version": 3
   },
   "file_extension": ".py",
   "mimetype": "text/x-python",
   "name": "python",
   "nbconvert_exporter": "python",
   "pygments_lexer": "ipython3",
   "version": "3.7.11"
  },
  "orig_nbformat": 4
 },
 "nbformat": 4,
 "nbformat_minor": 2
}
